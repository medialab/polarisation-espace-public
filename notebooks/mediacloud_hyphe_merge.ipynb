{
 "cells": [
  {
   "cell_type": "code",
   "execution_count": 2,
   "metadata": {},
   "outputs": [],
   "source": [
    "import csv\n",
    "from ural import LRUTrie"
   ]
  },
  {
   "cell_type": "markdown",
   "metadata": {},
   "source": [
    " ### ETAPE 1 : PREPARATION DE LA BASE MEDIA_CLOUD"
   ]
  },
  {
   "cell_type": "code",
   "execution_count": 4,
   "metadata": {},
   "outputs": [],
   "source": [
    "\n",
    "###Préparation de deux bases avant la concaténation###\n",
    "\n",
    "media_loc=[]\n",
    "media_nat=[]\n",
    "\n",
    "\n",
    "with open('./local.csv') as loc:\n",
    "    reader = csv.DictReader(loc, delimiter=',')\n",
    "\n",
    "    for line in reader:\n",
    "        media_loc.append(line)\n",
    "        \n",
    "    \n",
    "with open('./national.csv') as nat:\n",
    "    reader = csv.DictReader(nat, delimiter=',')\n",
    "    \n",
    "    for line in reader:\n",
    "        media_nat.append(line)\n",
    "     "
   ]
  },
  {
   "cell_type": "code",
   "execution_count": 5,
   "metadata": {},
   "outputs": [],
   "source": [
    "###identification des doublons entre le national et le local dans mediacloud###\n",
    "\n",
    "id_loc=[]\n",
    "set_id_nat=set()\n",
    "\n",
    "for media in media_loc:\n",
    "    id_loc.append(media['url'])\n",
    "\n",
    "for media in media_nat:\n",
    "    set_id_nat.add(media['url'])\n",
    "    \n",
    "set_id_loc=set(media['url'] for media in media_loc)"
   ]
  },
  {
   "cell_type": "code",
   "execution_count": 6,
   "metadata": {},
   "outputs": [],
   "source": [
    "###Suppression des doublons puis concaténation national et local dans media_cloud###\n",
    "\n",
    "doublon = set_id_loc & set_id_nat\n",
    "\n",
    "media_url={}\n",
    "\n",
    "for media in media_loc:\n",
    "    media_url[media['url']]=media\n",
    "\n",
    "for url in doublon:\n",
    "    media_loc.remove(media_url[url])\n"
   ]
  },
  {
   "cell_type": "code",
   "execution_count": 7,
   "metadata": {},
   "outputs": [
    {
     "name": "stdout",
     "output_type": "stream",
     "text": [
      "set()\n"
     ]
    }
   ],
   "source": [
    "###vérification###\n",
    "\n",
    "id_loc=[]\n",
    "for media in media_loc:\n",
    "    id_loc.append(media['url'])\n",
    "    \n",
    "set_id_loc=set(id_loc)\n",
    "doublon = set_id_loc & set_id_nat\n",
    "print(doublon)"
   ]
  },
  {
   "cell_type": "code",
   "execution_count": 8,
   "metadata": {},
   "outputs": [],
   "source": [
    "media_cloud=media_loc + media_nat"
   ]
  },
  {
   "cell_type": "markdown",
   "metadata": {},
   "source": [
    " ### ETAPE 2 "
   ]
  },
  {
   "cell_type": "code",
   "execution_count": 17,
   "metadata": {
    "scrolled": false
   },
   "outputs": [],
   "source": [
    "### identification de l'intersection mediacloud et hyphe###\n",
    "### identification de ceux de mediacloud qui ne sont pas dans hyphe###\n",
    "\n",
    "hyphe=[]\n",
    "\n",
    "with open('./hyphe.csv') as hph:\n",
    "    reader = csv.DictReader(hph, delimiter=',')\n",
    "    for line in reader:\n",
    "        if line['batch (TAGS)']!='EU':\n",
    "            hyphe.append(line)\n",
    "\n",
    "trie = LRUTrie(strip_trailing_slash=True)\n",
    "\n",
    "match=[]\n",
    "\n",
    "for media in hyphe:\n",
    "    d = {'ID_hyphe' : media['ID'], 'Nom' : media['NAME'], 'startpage_hyphe' : media['HOME PAGE']}\n",
    "    \n",
    "    for line in media['PREFIXES AS URL'].split(\" \"):\n",
    "        trie.set(line, d)\n",
    "        \n",
    "    match.append(d)\n",
    "        \n",
    "for media in media_cloud:\n",
    "    d = {'id_mediacloud' : media['media_id'],'startpage_mediacloud' : media['url'], 'Nom_mediacloud': media['name']}\n",
    "    m = trie.match(media['url'])\n",
    "    \n",
    "    if m is not None:\n",
    "        m.update(d)\n",
    "    else:  \n",
    "        match.append(d)"
   ]
  },
  {
   "cell_type": "code",
   "execution_count": 20,
   "metadata": {},
   "outputs": [],
   "source": [
    "#[media for media in match if 'id_mediacloud' not in media]"
   ]
  },
  {
   "cell_type": "code",
   "execution_count": 18,
   "metadata": {},
   "outputs": [],
   "source": [
    "###identification de ceux de hyphe qui ne sont pas dans mediacloud###"
   ]
  },
  {
   "cell_type": "code",
   "execution_count": 21,
   "metadata": {},
   "outputs": [],
   "source": [
    "with open('final.csv', 'w') as of:\n",
    "    writer=csv.DictWriter(of, fieldnames=list(match[0].keys()))\n",
    "    writer.writeheader()\n",
    "    for media in match:\n",
    "        writer.writerow(media)"
   ]
  },
  {
   "cell_type": "code",
   "execution_count": null,
   "metadata": {},
   "outputs": [],
   "source": []
  }
 ],
 "metadata": {
  "kernelspec": {
   "display_name": "Python 3",
   "language": "python",
   "name": "python3"
  },
  "language_info": {
   "codemirror_mode": {
    "name": "ipython",
    "version": 3
   },
   "file_extension": ".py",
   "mimetype": "text/x-python",
   "name": "python",
   "nbconvert_exporter": "python",
   "pygments_lexer": "ipython3",
   "version": "3.7.4"
  }
 },
 "nbformat": 4,
 "nbformat_minor": 2
}
